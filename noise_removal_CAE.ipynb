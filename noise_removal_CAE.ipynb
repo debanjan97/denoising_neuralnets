{
 "cells": [
  {
   "cell_type": "code",
   "execution_count": 0,
   "metadata": {
    "colab": {},
    "colab_type": "code",
    "id": "XLxsZPEJUAvz"
   },
   "outputs": [],
   "source": [
    "import numpy as np\n",
    "import pandas as pd\n",
    "import matplotlib.pyplot as plt\n",
    "import tensorflow as tf\n",
    "from tensorflow.examples.tutorials.mnist import input_data\n",
    "from tensorflow.contrib.layers import fully_connected"
   ]
  },
  {
   "cell_type": "markdown",
   "metadata": {
    "colab_type": "text",
    "id": "fb6O6KgFUOXj"
   },
   "source": [
    "###Reading the Dataset"
   ]
  },
  {
   "cell_type": "code",
   "execution_count": 18,
   "metadata": {
    "colab": {
     "base_uri": "https://localhost:8080/",
     "height": 86
    },
    "colab_type": "code",
    "id": "Id9mbx4xUZwT",
    "outputId": "f9d013db-193f-430a-c6dc-bd8f02445df6"
   },
   "outputs": [
    {
     "name": "stdout",
     "output_type": "stream",
     "text": [
      "Extracting /MNIST_data/train-images-idx3-ubyte.gz\n",
      "Extracting /MNIST_data/train-labels-idx1-ubyte.gz\n",
      "Extracting /MNIST_data/t10k-images-idx3-ubyte.gz\n",
      "Extracting /MNIST_data/t10k-labels-idx1-ubyte.gz\n"
     ]
    }
   ],
   "source": [
    "mnist = input_data.read_data_sets(\"/MNIST_data/\", one_hot=True)"
   ]
  },
  {
   "cell_type": "markdown",
   "metadata": {
    "colab_type": "text",
    "id": "Y4pYnOmmUkY4"
   },
   "source": [
    "###Initializing kernels and biases"
   ]
  },
  {
   "cell_type": "code",
   "execution_count": 0,
   "metadata": {
    "colab": {},
    "colab_type": "code",
    "id": "3t0yDVgiUqdP"
   },
   "outputs": [],
   "source": [
    "initializer = tf.contrib.layers.variance_scaling_initializer()\n",
    "#kernels\n",
    "ew1 = tf.Variable(initializer([3,3,1,32]), dtype = tf.float32)\n",
    "ew2 = tf.Variable(initializer([3,3,32,64]), dtype = tf.float32)\n",
    "ew3 = tf.Variable(initializer([3,3,64,128]), dtype = tf.float32)\n",
    "\n",
    "dw1 = tf.Variable(initializer([3,3,128,64]), dtype = tf.float32)\n",
    "dw2 = tf.Variable(initializer([3,3,64,32]), dtype = tf.float32)\n",
    "dw3 = tf.Variable(initializer([3,3,32,16]), dtype = tf.float32)\n",
    "\n",
    "dw = tf.Variable(initializer([3,3,16,1]), dtype = tf.float32)\n",
    "\n",
    "#biases\n",
    "eb1 = tf.Variable(tf.zeros(32))\n",
    "eb2 = tf.Variable(tf.zeros(64))\n",
    "eb3 = tf.Variable(tf.zeros(128))\n",
    "\n",
    "db1 = tf.Variable(tf.zeros(64))\n",
    "db2 = tf.Variable(tf.zeros(32))\n",
    "db3 = tf.Variable(tf.zeros(16))\n",
    "\n",
    "db = tf.Variable(tf.zeros(1))"
   ]
  },
  {
   "cell_type": "markdown",
   "metadata": {
    "colab_type": "text",
    "id": "Zmh-sBajU1ze"
   },
   "source": [
    "###Defining the Model\n"
   ]
  },
  {
   "cell_type": "code",
   "execution_count": 0,
   "metadata": {
    "colab": {},
    "colab_type": "code",
    "id": "Tc8I3ZO3U5vI"
   },
   "outputs": [],
   "source": [
    "x = tf.placeholder(tf.float32, shape = [None, 784])\n",
    "X = tf.reshape(x, [-1, 28, 28, 1])\n",
    "y = tf.placeholder(tf.float32, shape = [None, 784])\n",
    "Y = tf.reshape(y, [-1, 28, 28, 1])\n",
    "\n",
    "strides = 1 #convolution\n",
    "k = 2 #pooling\n",
    "\n",
    "#model\n",
    "\n",
    "conv1 = tf.nn.conv2d(X, ew1, strides = [1, strides, strides, 1], padding = 'SAME')\n",
    "conv1 = tf.nn.bias_add(conv1, eb1)\n",
    "conv1 = tf.nn.leaky_relu(conv1)\n",
    "conv1 = tf.nn.max_pool(conv1, ksize = [1, k, k, 1], strides = [1, k, k, 1], padding= 'SAME')\n",
    "\n",
    "conv2 = tf.nn.conv2d(conv1, ew2, strides = [1, strides, strides, 1], padding = 'SAME')\n",
    "conv2 = tf.nn.bias_add(conv2, eb2)\n",
    "conv2 = tf.nn.leaky_relu(conv2)\n",
    "conv2 = tf.nn.max_pool(conv2, ksize = [1, k, k, 1], strides = [1, k, k, 1], padding= 'SAME')\n",
    "\n",
    "conv3 = tf.nn.conv2d(conv2, ew3, strides = [1, strides, strides, 1], padding = 'SAME')\n",
    "conv3 = tf.nn.bias_add(conv3, eb3)\n",
    "conv3 = tf.nn.leaky_relu(conv3)\n",
    "encoder = tf.nn.max_pool(conv3, ksize = [1, k, k, 1], strides = [1, k, k, 1], padding= 'SAME')\n",
    "#print(encoder.get_shape())\n",
    "\n",
    "upsample1 = tf.image.resize_images(encoder, size = (7,7), method = tf.image.ResizeMethod.NEAREST_NEIGHBOR)\n",
    "conv4 = tf.nn.conv2d(upsample1, dw1, strides = [1, strides, strides, 1], padding = 'SAME')\n",
    "conv4 = tf.nn.bias_add(conv4, db1)\n",
    "conv4 = tf.nn.leaky_relu(conv4)\n",
    "\n",
    "upsample2 = tf.image.resize_images(conv4, size = (14,14), method = tf.image.ResizeMethod.NEAREST_NEIGHBOR)\n",
    "conv5 = tf.nn.conv2d(upsample2, dw2, strides = [1, strides, strides, 1], padding = 'SAME')\n",
    "conv5 = tf.nn.bias_add(conv5, db2)\n",
    "conv5 = tf.nn.leaky_relu(conv5)\n",
    "\n",
    "upsample3 = tf.image.resize_images(conv5, size = (28,28), method = tf.image.ResizeMethod.NEAREST_NEIGHBOR)\n",
    "conv6 = tf.nn.conv2d(upsample3, dw3, strides = [1, strides, strides, 1], padding = 'SAME')\n",
    "conv6 = tf.nn.bias_add(conv6, db3)\n",
    "conv6 = tf.nn.leaky_relu(conv6)\n",
    "\n",
    "decoder = tf.nn.conv2d(conv6, dw, strides = [1, strides, strides, 1], padding = 'SAME')\n",
    "decoder = tf.nn.bias_add(decoder, db)\n",
    "decoder = tf.nn.sigmoid(decoder)"
   ]
  },
  {
   "cell_type": "markdown",
   "metadata": {
    "colab_type": "text",
    "id": "VUBeHwDQVJWh"
   },
   "source": [
    "###Defining Loss function and Optimizer"
   ]
  },
  {
   "cell_type": "code",
   "execution_count": 0,
   "metadata": {
    "colab": {},
    "colab_type": "code",
    "id": "oHDN9TELVNSv"
   },
   "outputs": [],
   "source": [
    "with tf.device('/gpu:0'): \n",
    "    lr = 0.0001\n",
    "    #loss = tf.reduce_mean(tf.nn.sigmoid_cross_entropy_with_logits(labels = x, logits = oned))\n",
    "    loss = tf.reduce_mean(tf.square(decoder - Y))\n",
    "    optimizer = tf.train.AdamOptimizer(lr)\n",
    "    train = optimizer.minimize(loss)\n",
    "    init = tf.global_variables_initializer()"
   ]
  },
  {
   "cell_type": "markdown",
   "metadata": {
    "colab_type": "text",
    "id": "IXDE9yIeVSg0"
   },
   "source": [
    "##Run the Model"
   ]
  },
  {
   "cell_type": "code",
   "execution_count": 26,
   "metadata": {
    "colab": {
     "base_uri": "https://localhost:8080/",
     "height": 1397
    },
    "colab_type": "code",
    "id": "frjtZR8QVwJt",
    "outputId": "efbc16db-1105-4ce3-ecb7-38a4122eda02"
   },
   "outputs": [
    {
     "name": "stdout",
     "output_type": "stream",
     "text": [
      "epoch 1 loss 0.044419851154088974\n",
      "epoch 2 loss 0.03582439944148064\n",
      "epoch 3 loss 0.030512191355228424\n",
      "epoch 4 loss 0.027293534949421883\n",
      "epoch 5 loss 0.027106216177344322\n",
      "epoch 6 loss 0.0233294814825058\n",
      "epoch 7 loss 0.024739479646086693\n",
      "epoch 8 loss 0.023825304582715034\n",
      "epoch 9 loss 0.022367699071764946\n",
      "epoch 10 loss 0.02194182761013508\n",
      "epoch 11 loss 0.020648164674639702\n",
      "epoch 12 loss 0.02050621435046196\n",
      "epoch 13 loss 0.020333871245384216\n",
      "epoch 14 loss 0.01914030872285366\n",
      "epoch 15 loss 0.01867540366947651\n",
      "epoch 16 loss 0.01949993148446083\n",
      "epoch 17 loss 0.019112640991806984\n",
      "epoch 18 loss 0.0189772117882967\n",
      "epoch 19 loss 0.017940590158104897\n",
      "epoch 20 loss 0.01885383203625679\n",
      "epoch 21 loss 0.01815318875014782\n",
      "epoch 22 loss 0.01670677214860916\n",
      "epoch 23 loss 0.01792907528579235\n",
      "epoch 24 loss 0.017059821635484695\n",
      "epoch 25 loss 0.016798248514533043\n",
      "epoch 26 loss 0.01789703406393528\n",
      "epoch 27 loss 0.01858496479690075\n",
      "epoch 28 loss 0.016445524990558624\n",
      "epoch 29 loss 0.016646752133965492\n",
      "epoch 30 loss 0.01710066944360733\n",
      "epoch 31 loss 0.016923723742365837\n",
      "epoch 32 loss 0.016623083502054214\n",
      "epoch 33 loss 0.016221925616264343\n",
      "epoch 34 loss 0.017218343913555145\n",
      "epoch 35 loss 0.016551688313484192\n",
      "epoch 36 loss 0.015251468867063522\n",
      "epoch 37 loss 0.015523452311754227\n",
      "epoch 38 loss 0.01634015142917633\n",
      "epoch 39 loss 0.01602213643491268\n",
      "epoch 40 loss 0.015951870009303093\n",
      "epoch 41 loss 0.015875590965151787\n",
      "epoch 42 loss 0.015481166541576385\n",
      "epoch 43 loss 0.014842796139419079\n",
      "epoch 44 loss 0.015199782326817513\n",
      "epoch 45 loss 0.015392553992569447\n",
      "epoch 46 loss 0.015026893466711044\n",
      "epoch 47 loss 0.014759073965251446\n",
      "epoch 48 loss 0.015593690797686577\n",
      "epoch 49 loss 0.014943702146410942\n",
      "epoch 50 loss 0.01412356086075306\n"
     ]
    },
    {
     "data": {
      "image/png": "[encoded data removed]",
      "text/plain": [
       "<Figure size 1440x720 with 30 Axes>"
      ]
     },
     "metadata": {
      "tags": []
     },
     "output_type": "display_data"
    }
   ],
   "source": [
    "num_epoch = 50\n",
    "batch_size = 150\n",
    "num_test_images = 10\n",
    "\n",
    "#Noise Properties\n",
    "\n",
    "row,col = 28,28\n",
    "s_vs_p = .5\n",
    "amount = .6\n",
    "\n",
    "\n",
    "with tf.Session() as sess:\n",
    "    sess.run(init)\n",
    "    for epoch in range(num_epoch):\n",
    "        num_batches = mnist.train.num_examples // batch_size\n",
    "        \n",
    "        for i in range(num_batches):\n",
    "            X_batch,_ = mnist.train.next_batch(batch_size)\n",
    "            noised_batch = []\n",
    "            \n",
    "            \n",
    "            #Creating the Noised Batch, introducing Salt and Pepper noise\n",
    "            for i in X_batch:\n",
    "                out = np.copy(i)\n",
    "                # Salt mode\n",
    "                num_salt = np.ceil(amount * i.size * s_vs_p)\n",
    "                coords = [np.random.randint(0, j - 1, int(num_salt))\n",
    "                      for j in i.shape]\n",
    "                out[coords] = 1\n",
    "\n",
    "                # Pepper mode\n",
    "                num_pepper = np.ceil(amount* i.size * (1. - s_vs_p))\n",
    "                coords = [np.random.randint(0, j - 1, int(num_pepper))\n",
    "                      for j in i.shape]\n",
    "                out[coords] = 0\n",
    "                noised_batch.append(out)\n",
    "            \n",
    "            \n",
    "            sess.run(train, feed_dict={x:noised_batch, y:X_batch})\n",
    "        \n",
    "        train_loss = loss.eval(feed_dict = {x:noised_batch, y:X_batch})\n",
    "        print(\"epoch {} loss {}\".format(epoch+1, train_loss))\n",
    "    \n",
    "    noise_test = []\n",
    "      \n",
    "    #Creating Noised Test Images\n",
    "    for i in mnist.test.images:\n",
    "        out = np.copy(i)\n",
    "        # Salt mode\n",
    "        num_salt = np.ceil(amount * i.size * s_vs_p)\n",
    "        coords = [np.random.randint(0, j - 1, int(num_salt))\n",
    "              for j in i.shape]\n",
    "        out[coords] = 1\n",
    "\n",
    "        # Pepper mode\n",
    "        num_pepper = np.ceil(amount* i.size * (1. - s_vs_p))\n",
    "        coords = [np.random.randint(0, j - 1, int(num_pepper))\n",
    "              for j in i.shape]\n",
    "        out[coords] = 0\n",
    "        noise_test.append(out)\n",
    "    \n",
    "    \n",
    "    results = decoder.eval(feed_dict={x:noise_test,y:mnist.test.images[:num_test_images]})\n",
    "    f,a=plt.subplots(3,10,figsize=(20,10))\n",
    "    for i in range(num_test_images):\n",
    "        a[0][i].imshow(np.reshape(mnist.test.images[i],(28,28)))\n",
    "        a[1][i].imshow(np.reshape(noise_test[i],(28,28)))\n",
    "        a[2][i].imshow(np.reshape(results[i],(28,28)))"
   ]
  }
 ],
 "metadata": {
  "accelerator": "GPU",
  "colab": {
   "name": "noise_removal_CAE.ipynb",
   "provenance": [],
   "version": "0.3.2"
  },
  "kernelspec": {
   "display_name": "Python 3",
   "language": "python",
   "name": "python3"
  },
  "language_info": {
   "codemirror_mode": {
    "name": "ipython",
    "version": 3
   },
   "file_extension": ".py",
   "mimetype": "text/x-python",
   "name": "python",
   "nbconvert_exporter": "python",
   "pygments_lexer": "ipython3",
   "version": "3.6.7"
  }
 },
 "nbformat": 4,
 "nbformat_minor": 1
}
